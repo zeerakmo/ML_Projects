{
 "cells": [
  {
   "cell_type": "code",
   "execution_count": 1,
   "id": "68209f91",
   "metadata": {},
   "outputs": [],
   "source": [
    "import pandas as pd\n",
    "import matplotlib.pyplot as plt\n",
    "import numpy as np\n",
    "import sklearn\n"
   ]
  },
  {
   "cell_type": "code",
   "execution_count": 3,
   "id": "36f362d8",
   "metadata": {},
   "outputs": [
    {
     "data": {
      "text/html": [
       "<div>\n",
       "<style scoped>\n",
       "    .dataframe tbody tr th:only-of-type {\n",
       "        vertical-align: middle;\n",
       "    }\n",
       "\n",
       "    .dataframe tbody tr th {\n",
       "        vertical-align: top;\n",
       "    }\n",
       "\n",
       "    .dataframe thead th {\n",
       "        text-align: right;\n",
       "    }\n",
       "</style>\n",
       "<table border=\"1\" class=\"dataframe\">\n",
       "  <thead>\n",
       "    <tr style=\"text-align: right;\">\n",
       "      <th></th>\n",
       "      <th>sepal_length</th>\n",
       "      <th>sepal_width</th>\n",
       "      <th>petal_length</th>\n",
       "      <th>petal_width</th>\n",
       "      <th>class</th>\n",
       "    </tr>\n",
       "  </thead>\n",
       "  <tbody>\n",
       "    <tr>\n",
       "      <th>0</th>\n",
       "      <td>5.1</td>\n",
       "      <td>3.5</td>\n",
       "      <td>1.4</td>\n",
       "      <td>0.2</td>\n",
       "      <td>Iris-setosa</td>\n",
       "    </tr>\n",
       "    <tr>\n",
       "      <th>1</th>\n",
       "      <td>4.9</td>\n",
       "      <td>3.0</td>\n",
       "      <td>1.4</td>\n",
       "      <td>0.2</td>\n",
       "      <td>Iris-setosa</td>\n",
       "    </tr>\n",
       "    <tr>\n",
       "      <th>2</th>\n",
       "      <td>4.7</td>\n",
       "      <td>3.2</td>\n",
       "      <td>1.3</td>\n",
       "      <td>0.2</td>\n",
       "      <td>Iris-setosa</td>\n",
       "    </tr>\n",
       "    <tr>\n",
       "      <th>3</th>\n",
       "      <td>4.6</td>\n",
       "      <td>3.1</td>\n",
       "      <td>1.5</td>\n",
       "      <td>0.2</td>\n",
       "      <td>Iris-setosa</td>\n",
       "    </tr>\n",
       "    <tr>\n",
       "      <th>4</th>\n",
       "      <td>5.0</td>\n",
       "      <td>3.6</td>\n",
       "      <td>1.4</td>\n",
       "      <td>0.2</td>\n",
       "      <td>Iris-setosa</td>\n",
       "    </tr>\n",
       "  </tbody>\n",
       "</table>\n",
       "</div>"
      ],
      "text/plain": [
       "   sepal_length  sepal_width  petal_length  petal_width        class\n",
       "0           5.1          3.5           1.4          0.2  Iris-setosa\n",
       "1           4.9          3.0           1.4          0.2  Iris-setosa\n",
       "2           4.7          3.2           1.3          0.2  Iris-setosa\n",
       "3           4.6          3.1           1.5          0.2  Iris-setosa\n",
       "4           5.0          3.6           1.4          0.2  Iris-setosa"
      ]
     },
     "execution_count": 3,
     "metadata": {},
     "output_type": "execute_result"
    }
   ],
   "source": [
    "flower_data = pd.read_csv('Dataset/iris.data')\n",
    "flower_data.head()"
   ]
  },
  {
   "cell_type": "code",
   "execution_count": 6,
   "id": "21801f38",
   "metadata": {},
   "outputs": [],
   "source": [
    "from sklearn import preprocessing\n",
    "\n",
    "label_encoding = preprocessing.LabelEncoder()\n",
    "flower_data['class'] = label_encoding.fit_transform(flower_data['class'].astype(str))\n"
   ]
  },
  {
   "cell_type": "code",
   "execution_count": 7,
   "id": "147c426f",
   "metadata": {},
   "outputs": [
    {
     "data": {
      "text/html": [
       "<div>\n",
       "<style scoped>\n",
       "    .dataframe tbody tr th:only-of-type {\n",
       "        vertical-align: middle;\n",
       "    }\n",
       "\n",
       "    .dataframe tbody tr th {\n",
       "        vertical-align: top;\n",
       "    }\n",
       "\n",
       "    .dataframe thead th {\n",
       "        text-align: right;\n",
       "    }\n",
       "</style>\n",
       "<table border=\"1\" class=\"dataframe\">\n",
       "  <thead>\n",
       "    <tr style=\"text-align: right;\">\n",
       "      <th></th>\n",
       "      <th>sepal_length</th>\n",
       "      <th>sepal_width</th>\n",
       "      <th>petal_length</th>\n",
       "      <th>petal_width</th>\n",
       "      <th>class</th>\n",
       "    </tr>\n",
       "  </thead>\n",
       "  <tbody>\n",
       "    <tr>\n",
       "      <th>0</th>\n",
       "      <td>5.1</td>\n",
       "      <td>3.5</td>\n",
       "      <td>1.4</td>\n",
       "      <td>0.2</td>\n",
       "      <td>0</td>\n",
       "    </tr>\n",
       "    <tr>\n",
       "      <th>1</th>\n",
       "      <td>4.9</td>\n",
       "      <td>3.0</td>\n",
       "      <td>1.4</td>\n",
       "      <td>0.2</td>\n",
       "      <td>0</td>\n",
       "    </tr>\n",
       "    <tr>\n",
       "      <th>2</th>\n",
       "      <td>4.7</td>\n",
       "      <td>3.2</td>\n",
       "      <td>1.3</td>\n",
       "      <td>0.2</td>\n",
       "      <td>0</td>\n",
       "    </tr>\n",
       "    <tr>\n",
       "      <th>3</th>\n",
       "      <td>4.6</td>\n",
       "      <td>3.1</td>\n",
       "      <td>1.5</td>\n",
       "      <td>0.2</td>\n",
       "      <td>0</td>\n",
       "    </tr>\n",
       "    <tr>\n",
       "      <th>4</th>\n",
       "      <td>5.0</td>\n",
       "      <td>3.6</td>\n",
       "      <td>1.4</td>\n",
       "      <td>0.2</td>\n",
       "      <td>0</td>\n",
       "    </tr>\n",
       "  </tbody>\n",
       "</table>\n",
       "</div>"
      ],
      "text/plain": [
       "   sepal_length  sepal_width  petal_length  petal_width  class\n",
       "0           5.1          3.5           1.4          0.2      0\n",
       "1           4.9          3.0           1.4          0.2      0\n",
       "2           4.7          3.2           1.3          0.2      0\n",
       "3           4.6          3.1           1.5          0.2      0\n",
       "4           5.0          3.6           1.4          0.2      0"
      ]
     },
     "execution_count": 7,
     "metadata": {},
     "output_type": "execute_result"
    }
   ],
   "source": [
    "flower_data.head()"
   ]
  },
  {
   "cell_type": "code",
   "execution_count": 8,
   "id": "d0eec8d2",
   "metadata": {},
   "outputs": [],
   "source": [
    "flower_data = flower_data.sample(frac=1)\n"
   ]
  },
  {
   "cell_type": "code",
   "execution_count": 9,
   "id": "a2bec8fa",
   "metadata": {},
   "outputs": [
    {
     "data": {
      "text/html": [
       "<div>\n",
       "<style scoped>\n",
       "    .dataframe tbody tr th:only-of-type {\n",
       "        vertical-align: middle;\n",
       "    }\n",
       "\n",
       "    .dataframe tbody tr th {\n",
       "        vertical-align: top;\n",
       "    }\n",
       "\n",
       "    .dataframe thead th {\n",
       "        text-align: right;\n",
       "    }\n",
       "</style>\n",
       "<table border=\"1\" class=\"dataframe\">\n",
       "  <thead>\n",
       "    <tr style=\"text-align: right;\">\n",
       "      <th></th>\n",
       "      <th>sepal_length</th>\n",
       "      <th>sepal_width</th>\n",
       "      <th>petal_length</th>\n",
       "      <th>petal_width</th>\n",
       "      <th>class</th>\n",
       "    </tr>\n",
       "  </thead>\n",
       "  <tbody>\n",
       "    <tr>\n",
       "      <th>sepal_length</th>\n",
       "      <td>1.000000</td>\n",
       "      <td>-0.109369</td>\n",
       "      <td>0.871754</td>\n",
       "      <td>0.817954</td>\n",
       "      <td>0.782561</td>\n",
       "    </tr>\n",
       "    <tr>\n",
       "      <th>sepal_width</th>\n",
       "      <td>-0.109369</td>\n",
       "      <td>1.000000</td>\n",
       "      <td>-0.420516</td>\n",
       "      <td>-0.356544</td>\n",
       "      <td>-0.419446</td>\n",
       "    </tr>\n",
       "    <tr>\n",
       "      <th>petal_length</th>\n",
       "      <td>0.871754</td>\n",
       "      <td>-0.420516</td>\n",
       "      <td>1.000000</td>\n",
       "      <td>0.962757</td>\n",
       "      <td>0.949043</td>\n",
       "    </tr>\n",
       "    <tr>\n",
       "      <th>petal_width</th>\n",
       "      <td>0.817954</td>\n",
       "      <td>-0.356544</td>\n",
       "      <td>0.962757</td>\n",
       "      <td>1.000000</td>\n",
       "      <td>0.956464</td>\n",
       "    </tr>\n",
       "    <tr>\n",
       "      <th>class</th>\n",
       "      <td>0.782561</td>\n",
       "      <td>-0.419446</td>\n",
       "      <td>0.949043</td>\n",
       "      <td>0.956464</td>\n",
       "      <td>1.000000</td>\n",
       "    </tr>\n",
       "  </tbody>\n",
       "</table>\n",
       "</div>"
      ],
      "text/plain": [
       "              sepal_length  sepal_width  petal_length  petal_width     class\n",
       "sepal_length      1.000000    -0.109369      0.871754     0.817954  0.782561\n",
       "sepal_width      -0.109369     1.000000     -0.420516    -0.356544 -0.419446\n",
       "petal_length      0.871754    -0.420516      1.000000     0.962757  0.949043\n",
       "petal_width       0.817954    -0.356544      0.962757     1.000000  0.956464\n",
       "class             0.782561    -0.419446      0.949043     0.956464  1.000000"
      ]
     },
     "execution_count": 9,
     "metadata": {},
     "output_type": "execute_result"
    }
   ],
   "source": [
    "flower_data.corr()"
   ]
  },
  {
   "cell_type": "code",
   "execution_count": 12,
   "id": "04780fe8",
   "metadata": {},
   "outputs": [
    {
     "data": {
      "text/plain": [
       "<AxesSubplot:>"
      ]
     },
     "execution_count": 12,
     "metadata": {},
     "output_type": "execute_result"
    },
    {
     "data": {
      "image/png": "[encoded data removed]",
      "text/plain": [
       "<Figure size 576x576 with 2 Axes>"
      ]
     },
     "metadata": {
      "needs_background": "light"
     },
     "output_type": "display_data"
    }
   ],
   "source": [
    "import seaborn as sns\n",
    "\n",
    "fig,ax = plt.subplots(figsize=(8,8))\n",
    "sns.heatmap(flower_data.corr(),annot = True)"
   ]
  },
  {
   "cell_type": "code",
   "execution_count": 19,
   "id": "4cdd0e20",
   "metadata": {},
   "outputs": [],
   "source": [
    "X = flower_data.drop('class',axis =1)\n",
    "Y = flower_data['class']"
   ]
  },
  {
   "cell_type": "code",
   "execution_count": 48,
   "id": "e56a11ab",
   "metadata": {},
   "outputs": [
    {
     "data": {
      "text/plain": [
       "array([4.22484077])"
      ]
     },
     "execution_count": 48,
     "metadata": {},
     "output_type": "execute_result"
    }
   ],
   "source": [
    "from sklearn.decomposition import PCA\n",
    "\n",
    "pca = PCA(n_components = 1, whiten = True)\n",
    "X_reduced = pca.fit_transform(X)\n",
    "pca.explained_variance_\n"
   ]
  },
  {
   "cell_type": "code",
   "execution_count": 49,
   "id": "7b1a25d8",
   "metadata": {},
   "outputs": [],
   "source": [
    "from sklearn import preprocessing\n",
    "\n",
    "standard_scaler = preprocessing.StandardScaler()\n",
    "\n",
    "features_scaled = standard_scaler.fit_transform(X)\n",
    "features_scaled_df = pd.DataFrame(features_scaled,columns = X.columns)\n",
    "\n",
    "flower_data = pd.concat([features_scaled_df,flower_data['class']],axis = 1).reset_index(drop = True)"
   ]
  },
  {
   "cell_type": "code",
   "execution_count": 50,
   "id": "a6b8cd40",
   "metadata": {},
   "outputs": [
    {
     "data": {
      "text/html": [
       "<div>\n",
       "<style scoped>\n",
       "    .dataframe tbody tr th:only-of-type {\n",
       "        vertical-align: middle;\n",
       "    }\n",
       "\n",
       "    .dataframe tbody tr th {\n",
       "        vertical-align: top;\n",
       "    }\n",
       "\n",
       "    .dataframe thead th {\n",
       "        text-align: right;\n",
       "    }\n",
       "</style>\n",
       "<table border=\"1\" class=\"dataframe\">\n",
       "  <thead>\n",
       "    <tr style=\"text-align: right;\">\n",
       "      <th></th>\n",
       "      <th>sepal_length</th>\n",
       "      <th>sepal_width</th>\n",
       "      <th>petal_length</th>\n",
       "      <th>petal_width</th>\n",
       "      <th>class</th>\n",
       "    </tr>\n",
       "  </thead>\n",
       "  <tbody>\n",
       "    <tr>\n",
       "      <th>0</th>\n",
       "      <td>-1.748856</td>\n",
       "      <td>0.337848</td>\n",
       "      <td>-1.398138</td>\n",
       "      <td>-1.312977</td>\n",
       "      <td>0</td>\n",
       "    </tr>\n",
       "    <tr>\n",
       "      <th>1</th>\n",
       "      <td>0.674501</td>\n",
       "      <td>-0.819166</td>\n",
       "      <td>0.876490</td>\n",
       "      <td>0.922064</td>\n",
       "      <td>0</td>\n",
       "    </tr>\n",
       "    <tr>\n",
       "      <th>2</th>\n",
       "      <td>0.553333</td>\n",
       "      <td>0.800654</td>\n",
       "      <td>1.047087</td>\n",
       "      <td>1.579429</td>\n",
       "      <td>0</td>\n",
       "    </tr>\n",
       "    <tr>\n",
       "      <th>3</th>\n",
       "      <td>-1.264185</td>\n",
       "      <td>0.106445</td>\n",
       "      <td>-1.227541</td>\n",
       "      <td>-1.312977</td>\n",
       "      <td>0</td>\n",
       "    </tr>\n",
       "    <tr>\n",
       "      <th>4</th>\n",
       "      <td>-0.294842</td>\n",
       "      <td>-0.819166</td>\n",
       "      <td>0.250967</td>\n",
       "      <td>0.133226</td>\n",
       "      <td>0</td>\n",
       "    </tr>\n",
       "  </tbody>\n",
       "</table>\n",
       "</div>"
      ],
      "text/plain": [
       "   sepal_length  sepal_width  petal_length  petal_width  class\n",
       "0     -1.748856     0.337848     -1.398138    -1.312977      0\n",
       "1      0.674501    -0.819166      0.876490     0.922064      0\n",
       "2      0.553333     0.800654      1.047087     1.579429      0\n",
       "3     -1.264185     0.106445     -1.227541    -1.312977      0\n",
       "4     -0.294842    -0.819166      0.250967     0.133226      0"
      ]
     },
     "execution_count": 50,
     "metadata": {},
     "output_type": "execute_result"
    }
   ],
   "source": [
    "flower_data.head()"
   ]
  },
  {
   "cell_type": "code",
   "execution_count": 51,
   "id": "30020f60",
   "metadata": {},
   "outputs": [
    {
     "data": {
      "text/html": [
       "<div>\n",
       "<style scoped>\n",
       "    .dataframe tbody tr th:only-of-type {\n",
       "        vertical-align: middle;\n",
       "    }\n",
       "\n",
       "    .dataframe tbody tr th {\n",
       "        vertical-align: top;\n",
       "    }\n",
       "\n",
       "    .dataframe thead th {\n",
       "        text-align: right;\n",
       "    }\n",
       "</style>\n",
       "<table border=\"1\" class=\"dataframe\">\n",
       "  <thead>\n",
       "    <tr style=\"text-align: right;\">\n",
       "      <th></th>\n",
       "      <th>sepal_length</th>\n",
       "      <th>sepal_width</th>\n",
       "      <th>petal_length</th>\n",
       "      <th>petal_width</th>\n",
       "      <th>class</th>\n",
       "    </tr>\n",
       "  </thead>\n",
       "  <tbody>\n",
       "    <tr>\n",
       "      <th>count</th>\n",
       "      <td>1.500000e+02</td>\n",
       "      <td>1.500000e+02</td>\n",
       "      <td>1.500000e+02</td>\n",
       "      <td>1.500000e+02</td>\n",
       "      <td>150.000000</td>\n",
       "    </tr>\n",
       "    <tr>\n",
       "      <th>mean</th>\n",
       "      <td>-4.457545e-16</td>\n",
       "      <td>-6.054416e-16</td>\n",
       "      <td>2.738550e-16</td>\n",
       "      <td>-2.190840e-16</td>\n",
       "      <td>1.000000</td>\n",
       "    </tr>\n",
       "    <tr>\n",
       "      <th>std</th>\n",
       "      <td>1.003350e+00</td>\n",
       "      <td>1.003350e+00</td>\n",
       "      <td>1.003350e+00</td>\n",
       "      <td>1.003350e+00</td>\n",
       "      <td>0.819232</td>\n",
       "    </tr>\n",
       "    <tr>\n",
       "      <th>min</th>\n",
       "      <td>-1.870024e+00</td>\n",
       "      <td>-2.438987e+00</td>\n",
       "      <td>-1.568735e+00</td>\n",
       "      <td>-1.444450e+00</td>\n",
       "      <td>0.000000</td>\n",
       "    </tr>\n",
       "    <tr>\n",
       "      <th>25%</th>\n",
       "      <td>-9.006812e-01</td>\n",
       "      <td>-5.877635e-01</td>\n",
       "      <td>-1.227541e+00</td>\n",
       "      <td>-1.181504e+00</td>\n",
       "      <td>0.000000</td>\n",
       "    </tr>\n",
       "    <tr>\n",
       "      <th>50%</th>\n",
       "      <td>-5.250608e-02</td>\n",
       "      <td>-1.249576e-01</td>\n",
       "      <td>3.362659e-01</td>\n",
       "      <td>1.332259e-01</td>\n",
       "      <td>1.000000</td>\n",
       "    </tr>\n",
       "    <tr>\n",
       "      <th>75%</th>\n",
       "      <td>6.745011e-01</td>\n",
       "      <td>5.692513e-01</td>\n",
       "      <td>7.627586e-01</td>\n",
       "      <td>7.905908e-01</td>\n",
       "      <td>2.000000</td>\n",
       "    </tr>\n",
       "    <tr>\n",
       "      <th>max</th>\n",
       "      <td>2.492019e+00</td>\n",
       "      <td>3.114684e+00</td>\n",
       "      <td>1.786341e+00</td>\n",
       "      <td>1.710902e+00</td>\n",
       "      <td>2.000000</td>\n",
       "    </tr>\n",
       "  </tbody>\n",
       "</table>\n",
       "</div>"
      ],
      "text/plain": [
       "       sepal_length   sepal_width  petal_length   petal_width       class\n",
       "count  1.500000e+02  1.500000e+02  1.500000e+02  1.500000e+02  150.000000\n",
       "mean  -4.457545e-16 -6.054416e-16  2.738550e-16 -2.190840e-16    1.000000\n",
       "std    1.003350e+00  1.003350e+00  1.003350e+00  1.003350e+00    0.819232\n",
       "min   -1.870024e+00 -2.438987e+00 -1.568735e+00 -1.444450e+00    0.000000\n",
       "25%   -9.006812e-01 -5.877635e-01 -1.227541e+00 -1.181504e+00    0.000000\n",
       "50%   -5.250608e-02 -1.249576e-01  3.362659e-01  1.332259e-01    1.000000\n",
       "75%    6.745011e-01  5.692513e-01  7.627586e-01  7.905908e-01    2.000000\n",
       "max    2.492019e+00  3.114684e+00  1.786341e+00  1.710902e+00    2.000000"
      ]
     },
     "execution_count": 51,
     "metadata": {},
     "output_type": "execute_result"
    }
   ],
   "source": [
    "flower_data.describe()"
   ]
  },
  {
   "cell_type": "code",
   "execution_count": 52,
   "id": "c2d293e1",
   "metadata": {},
   "outputs": [
    {
     "data": {
      "text/plain": [
       "(150, 5)"
      ]
     },
     "execution_count": 52,
     "metadata": {},
     "output_type": "execute_result"
    }
   ],
   "source": [
    "flower_data.shape\n",
    "flower_data = flower_data.dropna()\n",
    "flower_data.shape"
   ]
  },
  {
   "cell_type": "code",
   "execution_count": 53,
   "id": "ff30bb03",
   "metadata": {},
   "outputs": [],
   "source": [
    "from sklearn.model_selection import train_test_split\n",
    "\n",
    "x_train,x_test,y_train,y_test= train_test_split(X,Y,test_size =0.3,random_state=0)"
   ]
  },
  {
   "cell_type": "code",
   "execution_count": 54,
   "id": "8f550c4a",
   "metadata": {},
   "outputs": [
    {
     "name": "stdout",
     "output_type": "stream",
     "text": [
      "Fitting 2 folds for each of 30 candidates, totalling 60 fits\n",
      "[CV 1/2] END learning_rate=0.001, n_estimators=10;, score=(train=0.365, test=0.358) total time=   0.0s\n",
      "[CV 2/2] END learning_rate=0.001, n_estimators=10;, score=(train=0.358, test=0.365) total time=   0.0s\n",
      "[CV 1/2] END learning_rate=0.001, n_estimators=50;, score=(train=0.712, test=0.566) total time=   0.0s\n",
      "[CV 2/2] END learning_rate=0.001, n_estimators=50;, score=(train=0.679, test=0.615) total time=   0.0s\n",
      "[CV 1/2] END learning_rate=0.001, n_estimators=100;, score=(train=1.000, test=0.868) total time=   0.1s\n",
      "[CV 2/2] END learning_rate=0.001, n_estimators=100;, score=(train=1.000, test=0.904) total time=   0.1s\n",
      "[CV 1/2] END learning_rate=0.001, n_estimators=200;, score=(train=1.000, test=0.868) total time=   0.1s\n",
      "[CV 2/2] END learning_rate=0.001, n_estimators=200;, score=(train=1.000, test=0.904) total time=   0.1s\n",
      "[CV 1/2] END learning_rate=0.001, n_estimators=250;, score=(train=1.000, test=0.868) total time=   0.2s\n",
      "[CV 2/2] END learning_rate=0.001, n_estimators=250;, score=(train=1.000, test=0.904) total time=   0.2s\n",
      "[CV 1/2] END learning_rate=0.001, n_estimators=500;, score=(train=1.000, test=0.868) total time=   0.3s\n",
      "[CV 2/2] END learning_rate=0.001, n_estimators=500;, score=(train=1.000, test=0.904) total time=   0.4s\n",
      "[CV 1/2] END learning_rate=0.01, n_estimators=10;, score=(train=1.000, test=0.868) total time=   0.0s\n",
      "[CV 2/2] END learning_rate=0.01, n_estimators=10;, score=(train=1.000, test=0.904) total time=   0.0s\n",
      "[CV 1/2] END learning_rate=0.01, n_estimators=50;, score=(train=1.000, test=0.868) total time=   0.0s\n",
      "[CV 2/2] END learning_rate=0.01, n_estimators=50;, score=(train=1.000, test=0.904) total time=   0.0s\n",
      "[CV 1/2] END learning_rate=0.01, n_estimators=100;, score=(train=1.000, test=0.868) total time=   0.1s\n",
      "[CV 2/2] END learning_rate=0.01, n_estimators=100;, score=(train=1.000, test=0.904) total time=   0.1s\n",
      "[CV 1/2] END learning_rate=0.01, n_estimators=200;, score=(train=1.000, test=0.868) total time=   0.1s\n",
      "[CV 2/2] END learning_rate=0.01, n_estimators=200;, score=(train=1.000, test=0.904) total time=   0.2s\n",
      "[CV 1/2] END learning_rate=0.01, n_estimators=250;, score=(train=1.000, test=0.868) total time=   0.2s\n",
      "[CV 2/2] END learning_rate=0.01, n_estimators=250;, score=(train=1.000, test=0.904) total time=   0.2s\n",
      "[CV 1/2] END learning_rate=0.01, n_estimators=500;, score=(train=1.000, test=0.868) total time=   0.4s\n",
      "[CV 2/2] END learning_rate=0.01, n_estimators=500;, score=(train=1.000, test=0.904) total time=   0.4s\n",
      "[CV 1/2] END learning_rate=0.1, n_estimators=10;, score=(train=1.000, test=0.868) total time=   0.0s\n",
      "[CV 2/2] END learning_rate=0.1, n_estimators=10;, score=(train=1.000, test=0.904) total time=   0.0s\n",
      "[CV 1/2] END learning_rate=0.1, n_estimators=50;, score=(train=1.000, test=0.868) total time=   0.0s\n",
      "[CV 2/2] END learning_rate=0.1, n_estimators=50;, score=(train=1.000, test=0.904) total time=   0.0s\n",
      "[CV 1/2] END learning_rate=0.1, n_estimators=100;, score=(train=1.000, test=0.868) total time=   0.1s\n",
      "[CV 2/2] END learning_rate=0.1, n_estimators=100;, score=(train=1.000, test=0.904) total time=   0.1s\n",
      "[CV 1/2] END learning_rate=0.1, n_estimators=200;, score=(train=1.000, test=0.925) total time=   0.1s\n",
      "[CV 2/2] END learning_rate=0.1, n_estimators=200;, score=(train=1.000, test=0.904) total time=   0.1s\n",
      "[CV 1/2] END learning_rate=0.1, n_estimators=250;, score=(train=1.000, test=0.925) total time=   0.1s\n",
      "[CV 2/2] END learning_rate=0.1, n_estimators=250;, score=(train=1.000, test=0.904) total time=   0.2s\n",
      "[CV 1/2] END learning_rate=0.1, n_estimators=500;, score=(train=1.000, test=0.925) total time=   0.3s\n",
      "[CV 2/2] END learning_rate=0.1, n_estimators=500;, score=(train=1.000, test=0.904) total time=   0.3s\n",
      "[CV 1/2] END learning_rate=0.25, n_estimators=10;, score=(train=1.000, test=0.868) total time=   0.0s\n",
      "[CV 2/2] END learning_rate=0.25, n_estimators=10;, score=(train=1.000, test=0.904) total time=   0.0s\n",
      "[CV 1/2] END learning_rate=0.25, n_estimators=50;, score=(train=1.000, test=0.868) total time=   0.0s\n",
      "[CV 2/2] END learning_rate=0.25, n_estimators=50;, score=(train=1.000, test=0.904) total time=   0.0s\n",
      "[CV 1/2] END learning_rate=0.25, n_estimators=100;, score=(train=1.000, test=0.925) total time=   0.1s\n",
      "[CV 2/2] END learning_rate=0.25, n_estimators=100;, score=(train=1.000, test=0.904) total time=   0.1s\n",
      "[CV 1/2] END learning_rate=0.25, n_estimators=200;, score=(train=1.000, test=0.925) total time=   0.1s\n",
      "[CV 2/2] END learning_rate=0.25, n_estimators=200;, score=(train=1.000, test=0.904) total time=   0.1s\n",
      "[CV 1/2] END learning_rate=0.25, n_estimators=250;, score=(train=1.000, test=0.925) total time=   0.1s\n",
      "[CV 2/2] END learning_rate=0.25, n_estimators=250;, score=(train=1.000, test=0.904) total time=   0.1s\n",
      "[CV 1/2] END learning_rate=0.25, n_estimators=500;, score=(train=1.000, test=0.925) total time=   0.2s\n",
      "[CV 2/2] END learning_rate=0.25, n_estimators=500;, score=(train=1.000, test=0.904) total time=   0.2s\n",
      "[CV 1/2] END learning_rate=0.5, n_estimators=10;, score=(train=1.000, test=0.868) total time=   0.0s\n",
      "[CV 2/2] END learning_rate=0.5, n_estimators=10;, score=(train=1.000, test=0.904) total time=   0.0s\n",
      "[CV 1/2] END learning_rate=0.5, n_estimators=50;, score=(train=1.000, test=0.925) total time=   0.0s\n",
      "[CV 2/2] END learning_rate=0.5, n_estimators=50;, score=(train=1.000, test=0.904) total time=   0.0s\n",
      "[CV 1/2] END learning_rate=0.5, n_estimators=100;, score=(train=1.000, test=0.925) total time=   0.1s\n",
      "[CV 2/2] END learning_rate=0.5, n_estimators=100;, score=(train=1.000, test=0.904) total time=   0.1s\n",
      "[CV 1/2] END learning_rate=0.5, n_estimators=200;, score=(train=1.000, test=0.925) total time=   0.1s\n",
      "[CV 2/2] END learning_rate=0.5, n_estimators=200;, score=(train=1.000, test=0.904) total time=   0.1s\n",
      "[CV 1/2] END learning_rate=0.5, n_estimators=250;, score=(train=1.000, test=0.925) total time=   0.1s\n",
      "[CV 2/2] END learning_rate=0.5, n_estimators=250;, score=(train=1.000, test=0.904) total time=   0.1s\n",
      "[CV 1/2] END learning_rate=0.5, n_estimators=500;, score=(train=1.000, test=0.925) total time=   0.2s\n",
      "[CV 2/2] END learning_rate=0.5, n_estimators=500;, score=(train=1.000, test=0.904) total time=   0.2s\n"
     ]
    },
    {
     "data": {
      "text/plain": [
       "GridSearchCV(cv=2, estimator=GradientBoostingClassifier(random_state=0),\n",
       "             param_grid={'learning_rate': [0.001, 0.01, 0.1, 0.25, 0.5],\n",
       "                         'n_estimators': [10, 50, 100, 200, 250, 500]},\n",
       "             return_train_score=True, verbose=5)"
      ]
     },
     "execution_count": 54,
     "metadata": {},
     "output_type": "execute_result"
    }
   ],
   "source": [
    "from sklearn.ensemble import GradientBoostingClassifier\n",
    "from sklearn.model_selection import GridSearchCV\n",
    "\n",
    "n_estimators = [10,50,100,200,250,500]\n",
    "learning_rate = [0.001,0.01,0.1,0.25,0.5]\n",
    "\n",
    "param_grid = {\"n_estimators\":n_estimators,\n",
    "             \"learning_rate\":learning_rate}\n",
    "\n",
    "grid_search = GridSearchCV(GradientBoostingClassifier(random_state=0),param_grid,cv=2,return_train_score=True,verbose =5)\n",
    "grid_search.fit(x_train,y_train)\n",
    "\n"
   ]
  },
  {
   "cell_type": "code",
   "execution_count": 55,
   "id": "d158c2e0",
   "metadata": {},
   "outputs": [
    {
     "data": {
      "text/plain": [
       "{'learning_rate': 0.1, 'n_estimators': 200}"
      ]
     },
     "execution_count": 55,
     "metadata": {},
     "output_type": "execute_result"
    }
   ],
   "source": [
    "grid_search.best_params_"
   ]
  },
  {
   "cell_type": "code",
   "execution_count": 56,
   "id": "2c38dd07",
   "metadata": {},
   "outputs": [],
   "source": [
    "gradient_boosting = GradientBoostingClassifier(learning_rate=grid_search.best_params_['learning_rate'],n_estimators = grid_search.best_params_['n_estimators'])\n",
    "gradient_boosting.fit(x_train, y_train)\n",
    "y_pred = gradient_boosting.predict(x_test)\n"
   ]
  },
  {
   "cell_type": "code",
   "execution_count": 57,
   "id": "2def6630",
   "metadata": {},
   "outputs": [
    {
     "data": {
      "text/html": [
       "<div>\n",
       "<style scoped>\n",
       "    .dataframe tbody tr th:only-of-type {\n",
       "        vertical-align: middle;\n",
       "    }\n",
       "\n",
       "    .dataframe tbody tr th {\n",
       "        vertical-align: top;\n",
       "    }\n",
       "\n",
       "    .dataframe thead th {\n",
       "        text-align: right;\n",
       "    }\n",
       "</style>\n",
       "<table border=\"1\" class=\"dataframe\">\n",
       "  <thead>\n",
       "    <tr style=\"text-align: right;\">\n",
       "      <th></th>\n",
       "      <th>y_test</th>\n",
       "      <th>y_pred</th>\n",
       "    </tr>\n",
       "  </thead>\n",
       "  <tbody>\n",
       "    <tr>\n",
       "      <th>40</th>\n",
       "      <td>0</td>\n",
       "      <td>0</td>\n",
       "    </tr>\n",
       "    <tr>\n",
       "      <th>59</th>\n",
       "      <td>1</td>\n",
       "      <td>1</td>\n",
       "    </tr>\n",
       "    <tr>\n",
       "      <th>46</th>\n",
       "      <td>0</td>\n",
       "      <td>0</td>\n",
       "    </tr>\n",
       "    <tr>\n",
       "      <th>74</th>\n",
       "      <td>1</td>\n",
       "      <td>1</td>\n",
       "    </tr>\n",
       "    <tr>\n",
       "      <th>128</th>\n",
       "      <td>2</td>\n",
       "      <td>2</td>\n",
       "    </tr>\n",
       "    <tr>\n",
       "      <th>90</th>\n",
       "      <td>1</td>\n",
       "      <td>1</td>\n",
       "    </tr>\n",
       "    <tr>\n",
       "      <th>2</th>\n",
       "      <td>0</td>\n",
       "      <td>0</td>\n",
       "    </tr>\n",
       "    <tr>\n",
       "      <th>7</th>\n",
       "      <td>0</td>\n",
       "      <td>0</td>\n",
       "    </tr>\n",
       "    <tr>\n",
       "      <th>67</th>\n",
       "      <td>1</td>\n",
       "      <td>1</td>\n",
       "    </tr>\n",
       "    <tr>\n",
       "      <th>12</th>\n",
       "      <td>0</td>\n",
       "      <td>0</td>\n",
       "    </tr>\n",
       "  </tbody>\n",
       "</table>\n",
       "</div>"
      ],
      "text/plain": [
       "     y_test  y_pred\n",
       "40        0       0\n",
       "59        1       1\n",
       "46        0       0\n",
       "74        1       1\n",
       "128       2       2\n",
       "90        1       1\n",
       "2         0       0\n",
       "7         0       0\n",
       "67        1       1\n",
       "12        0       0"
      ]
     },
     "execution_count": 57,
     "metadata": {},
     "output_type": "execute_result"
    }
   ],
   "source": [
    "pred_results = pd.DataFrame({'y_test':y_test,\n",
    "                            'y_pred': y_pred})\n",
    "pred_results.head(10)"
   ]
  },
  {
   "cell_type": "code",
   "execution_count": 58,
   "id": "e5dd301b",
   "metadata": {},
   "outputs": [
    {
     "data": {
      "text/plain": [
       "0.9740129935032483"
      ]
     },
     "execution_count": 58,
     "metadata": {},
     "output_type": "execute_result"
    }
   ],
   "source": [
    "from sklearn.metrics import f1_score\n",
    "f1_score(y_test, y_pred, average='macro')"
   ]
  },
  {
   "cell_type": "code",
   "execution_count": null,
   "id": "5ee359a3",
   "metadata": {},
   "outputs": [],
   "source": []
  }
 ],
 "metadata": {
  "kernelspec": {
   "display_name": "Python 3 (ipykernel)",
   "language": "python",
   "name": "python3"
  },
  "language_info": {
   "codemirror_mode": {
    "name": "ipython",
    "version": 3
   },
   "file_extension": ".py",
   "mimetype": "text/x-python",
   "name": "python",
   "nbconvert_exporter": "python",
   "pygments_lexer": "ipython3",
   "version": "3.9.7"
  }
 },
 "nbformat": 4,
 "nbformat_minor": 5
}
